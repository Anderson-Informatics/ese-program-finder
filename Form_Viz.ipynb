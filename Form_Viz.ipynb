{
 "cells": [
  {
   "cell_type": "code",
   "execution_count": 17,
   "id": "c7a77ca7",
   "metadata": {},
   "outputs": [
    {
     "name": "stdout",
     "output_type": "stream",
     "text": [
      "Flowchart generated as form_flowchart_9th.png\n"
     ]
    }
   ],
   "source": [
    "import json\n",
    "from graphviz import Digraph\n",
    "\n",
    "# Load the JSON file\n",
    "with open('form.json', 'r') as f:\n",
    "    data = json.load(f)\n",
    "\n",
    "fields = data['fields']\n",
    "\n",
    "# Exclude fields with fieldType 'divider' or 'text_only'\n",
    "excluded_types = {'divider', 'text_only'}\n",
    "filtered_fields = [field for field in fields if field.get('fieldType') not in excluded_types]\n",
    "\n",
    "# Create a mapping from formFieldId to label or fieldType if label is missing\n",
    "field_labels = {}\n",
    "branchid_to_fieldid = {}\n",
    "for field in filtered_fields:\n",
    "    branch_id = field.get('branchId')\n",
    "    field_id = field.get('formFieldId')\n",
    "    label = field.get('label', '').strip()\n",
    "    if not label:\n",
    "        label = field.get('fieldType', '')\n",
    "    if field_id:\n",
    "        field_labels[field_id] = label\n",
    "    if branch_id and field_id:\n",
    "        branchid_to_fieldid.setdefault(branch_id, []).append(field_id)\n",
    "\n",
    "# Create a Graphviz Digraph\n",
    "dot = Digraph(comment='Form Flowchart', format='png')\n",
    "dot.attr(rankdir='LR', size='20,16')\n",
    "dot.graph_attr['dpi'] = '1600'\n",
    "\n",
    "# Add nodes for each field\n",
    "for field_id, label in field_labels.items():\n",
    "    dot.node(field_id, label)\n",
    "\n",
    "# Add edges for branching options\n",
    "for field in filtered_fields:\n",
    "    field_id = field.get('formFieldId')\n",
    "    options = field.get('options', [])\n",
    "    for option in options:\n",
    "        branch_id = option.get('branchId')\n",
    "        option_label = option.get('label', '')\n",
    "        if branch_id and field_id:\n",
    "            # Add option node\n",
    "            option_node_id = f\"{field_id}_{option_label}\"\n",
    "            dot.node(option_node_id, option_label, shape='box', style='filled', color='lightblue')\n",
    "            dot.edge(field_id, option_node_id)\n",
    "            # Connect option to all fields with matching branchId\n",
    "            for target_field_id in branchid_to_fieldid.get(branch_id, []):\n",
    "                dot.edge(option_node_id, target_field_id)\n",
    "\n",
    "# Save and render the diagram\n",
    "dot.render('form_flowchart', view=True)\n",
    "print(\"Flowchart generated as form_flowchart_9th.png\")"
   ]
  }
 ],
 "metadata": {
  "kernelspec": {
   "display_name": "Python 3",
   "language": "python",
   "name": "python3"
  },
  "language_info": {
   "codemirror_mode": {
    "name": "ipython",
    "version": 3
   },
   "file_extension": ".py",
   "mimetype": "text/x-python",
   "name": "python",
   "nbconvert_exporter": "python",
   "pygments_lexer": "ipython3",
   "version": "3.13.7"
  }
 },
 "nbformat": 4,
 "nbformat_minor": 5
}
